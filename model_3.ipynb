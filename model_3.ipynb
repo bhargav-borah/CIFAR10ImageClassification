{
  "nbformat": 4,
  "nbformat_minor": 0,
  "metadata": {
    "colab": {
      "provenance": [],
      "gpuType": "T4"
    },
    "kernelspec": {
      "name": "python3",
      "display_name": "Python 3"
    },
    "language_info": {
      "name": "python"
    },
    "accelerator": "GPU",
    "widgets": {
      "application/vnd.jupyter.widget-state+json": {
        "a352cee4c6b84628bf7903c6b5e996ce": {
          "model_module": "@jupyter-widgets/controls",
          "model_name": "HBoxModel",
          "model_module_version": "1.5.0",
          "state": {
            "_dom_classes": [],
            "_model_module": "@jupyter-widgets/controls",
            "_model_module_version": "1.5.0",
            "_model_name": "HBoxModel",
            "_view_count": null,
            "_view_module": "@jupyter-widgets/controls",
            "_view_module_version": "1.5.0",
            "_view_name": "HBoxView",
            "box_style": "",
            "children": [
              "IPY_MODEL_6a0428dfd4dd44658c210572ae19d08b",
              "IPY_MODEL_1b217ce9bbcd418d95be3b45289748b6",
              "IPY_MODEL_07e708f4bc834540bf1a7ecc34e7cb27"
            ],
            "layout": "IPY_MODEL_9eab7a832dc94b0789d3c67631a8d561"
          }
        },
        "6a0428dfd4dd44658c210572ae19d08b": {
          "model_module": "@jupyter-widgets/controls",
          "model_name": "HTMLModel",
          "model_module_version": "1.5.0",
          "state": {
            "_dom_classes": [],
            "_model_module": "@jupyter-widgets/controls",
            "_model_module_version": "1.5.0",
            "_model_name": "HTMLModel",
            "_view_count": null,
            "_view_module": "@jupyter-widgets/controls",
            "_view_module_version": "1.5.0",
            "_view_name": "HTMLView",
            "description": "",
            "description_tooltip": null,
            "layout": "IPY_MODEL_691d6eadc7014267b39220ce7751cfb8",
            "placeholder": "​",
            "style": "IPY_MODEL_3cf8413c12884dc9bd15b1deffa5a1a7",
            "value": " 90%"
          }
        },
        "1b217ce9bbcd418d95be3b45289748b6": {
          "model_module": "@jupyter-widgets/controls",
          "model_name": "FloatProgressModel",
          "model_module_version": "1.5.0",
          "state": {
            "_dom_classes": [],
            "_model_module": "@jupyter-widgets/controls",
            "_model_module_version": "1.5.0",
            "_model_name": "FloatProgressModel",
            "_view_count": null,
            "_view_module": "@jupyter-widgets/controls",
            "_view_module_version": "1.5.0",
            "_view_name": "ProgressView",
            "bar_style": "danger",
            "description": "",
            "description_tooltip": null,
            "layout": "IPY_MODEL_f63d543b97484689bb8fc85e5a98a7ca",
            "max": 10,
            "min": 0,
            "orientation": "horizontal",
            "style": "IPY_MODEL_ce75fa62314a44c1a51c2cbfb6c8bce3",
            "value": 9
          }
        },
        "07e708f4bc834540bf1a7ecc34e7cb27": {
          "model_module": "@jupyter-widgets/controls",
          "model_name": "HTMLModel",
          "model_module_version": "1.5.0",
          "state": {
            "_dom_classes": [],
            "_model_module": "@jupyter-widgets/controls",
            "_model_module_version": "1.5.0",
            "_model_name": "HTMLModel",
            "_view_count": null,
            "_view_module": "@jupyter-widgets/controls",
            "_view_module_version": "1.5.0",
            "_view_name": "HTMLView",
            "description": "",
            "description_tooltip": null,
            "layout": "IPY_MODEL_494d8ca97dfa4739a0c949ef238dd222",
            "placeholder": "​",
            "style": "IPY_MODEL_cf642465dc3349fea503da158a234dbb",
            "value": " 9/10 [03:36&lt;00:21, 21.58s/it]"
          }
        },
        "9eab7a832dc94b0789d3c67631a8d561": {
          "model_module": "@jupyter-widgets/base",
          "model_name": "LayoutModel",
          "model_module_version": "1.2.0",
          "state": {
            "_model_module": "@jupyter-widgets/base",
            "_model_module_version": "1.2.0",
            "_model_name": "LayoutModel",
            "_view_count": null,
            "_view_module": "@jupyter-widgets/base",
            "_view_module_version": "1.2.0",
            "_view_name": "LayoutView",
            "align_content": null,
            "align_items": null,
            "align_self": null,
            "border": null,
            "bottom": null,
            "display": null,
            "flex": null,
            "flex_flow": null,
            "grid_area": null,
            "grid_auto_columns": null,
            "grid_auto_flow": null,
            "grid_auto_rows": null,
            "grid_column": null,
            "grid_gap": null,
            "grid_row": null,
            "grid_template_areas": null,
            "grid_template_columns": null,
            "grid_template_rows": null,
            "height": null,
            "justify_content": null,
            "justify_items": null,
            "left": null,
            "margin": null,
            "max_height": null,
            "max_width": null,
            "min_height": null,
            "min_width": null,
            "object_fit": null,
            "object_position": null,
            "order": null,
            "overflow": null,
            "overflow_x": null,
            "overflow_y": null,
            "padding": null,
            "right": null,
            "top": null,
            "visibility": null,
            "width": null
          }
        },
        "691d6eadc7014267b39220ce7751cfb8": {
          "model_module": "@jupyter-widgets/base",
          "model_name": "LayoutModel",
          "model_module_version": "1.2.0",
          "state": {
            "_model_module": "@jupyter-widgets/base",
            "_model_module_version": "1.2.0",
            "_model_name": "LayoutModel",
            "_view_count": null,
            "_view_module": "@jupyter-widgets/base",
            "_view_module_version": "1.2.0",
            "_view_name": "LayoutView",
            "align_content": null,
            "align_items": null,
            "align_self": null,
            "border": null,
            "bottom": null,
            "display": null,
            "flex": null,
            "flex_flow": null,
            "grid_area": null,
            "grid_auto_columns": null,
            "grid_auto_flow": null,
            "grid_auto_rows": null,
            "grid_column": null,
            "grid_gap": null,
            "grid_row": null,
            "grid_template_areas": null,
            "grid_template_columns": null,
            "grid_template_rows": null,
            "height": null,
            "justify_content": null,
            "justify_items": null,
            "left": null,
            "margin": null,
            "max_height": null,
            "max_width": null,
            "min_height": null,
            "min_width": null,
            "object_fit": null,
            "object_position": null,
            "order": null,
            "overflow": null,
            "overflow_x": null,
            "overflow_y": null,
            "padding": null,
            "right": null,
            "top": null,
            "visibility": null,
            "width": null
          }
        },
        "3cf8413c12884dc9bd15b1deffa5a1a7": {
          "model_module": "@jupyter-widgets/controls",
          "model_name": "DescriptionStyleModel",
          "model_module_version": "1.5.0",
          "state": {
            "_model_module": "@jupyter-widgets/controls",
            "_model_module_version": "1.5.0",
            "_model_name": "DescriptionStyleModel",
            "_view_count": null,
            "_view_module": "@jupyter-widgets/base",
            "_view_module_version": "1.2.0",
            "_view_name": "StyleView",
            "description_width": ""
          }
        },
        "f63d543b97484689bb8fc85e5a98a7ca": {
          "model_module": "@jupyter-widgets/base",
          "model_name": "LayoutModel",
          "model_module_version": "1.2.0",
          "state": {
            "_model_module": "@jupyter-widgets/base",
            "_model_module_version": "1.2.0",
            "_model_name": "LayoutModel",
            "_view_count": null,
            "_view_module": "@jupyter-widgets/base",
            "_view_module_version": "1.2.0",
            "_view_name": "LayoutView",
            "align_content": null,
            "align_items": null,
            "align_self": null,
            "border": null,
            "bottom": null,
            "display": null,
            "flex": null,
            "flex_flow": null,
            "grid_area": null,
            "grid_auto_columns": null,
            "grid_auto_flow": null,
            "grid_auto_rows": null,
            "grid_column": null,
            "grid_gap": null,
            "grid_row": null,
            "grid_template_areas": null,
            "grid_template_columns": null,
            "grid_template_rows": null,
            "height": null,
            "justify_content": null,
            "justify_items": null,
            "left": null,
            "margin": null,
            "max_height": null,
            "max_width": null,
            "min_height": null,
            "min_width": null,
            "object_fit": null,
            "object_position": null,
            "order": null,
            "overflow": null,
            "overflow_x": null,
            "overflow_y": null,
            "padding": null,
            "right": null,
            "top": null,
            "visibility": null,
            "width": null
          }
        },
        "ce75fa62314a44c1a51c2cbfb6c8bce3": {
          "model_module": "@jupyter-widgets/controls",
          "model_name": "ProgressStyleModel",
          "model_module_version": "1.5.0",
          "state": {
            "_model_module": "@jupyter-widgets/controls",
            "_model_module_version": "1.5.0",
            "_model_name": "ProgressStyleModel",
            "_view_count": null,
            "_view_module": "@jupyter-widgets/base",
            "_view_module_version": "1.2.0",
            "_view_name": "StyleView",
            "bar_color": null,
            "description_width": ""
          }
        },
        "494d8ca97dfa4739a0c949ef238dd222": {
          "model_module": "@jupyter-widgets/base",
          "model_name": "LayoutModel",
          "model_module_version": "1.2.0",
          "state": {
            "_model_module": "@jupyter-widgets/base",
            "_model_module_version": "1.2.0",
            "_model_name": "LayoutModel",
            "_view_count": null,
            "_view_module": "@jupyter-widgets/base",
            "_view_module_version": "1.2.0",
            "_view_name": "LayoutView",
            "align_content": null,
            "align_items": null,
            "align_self": null,
            "border": null,
            "bottom": null,
            "display": null,
            "flex": null,
            "flex_flow": null,
            "grid_area": null,
            "grid_auto_columns": null,
            "grid_auto_flow": null,
            "grid_auto_rows": null,
            "grid_column": null,
            "grid_gap": null,
            "grid_row": null,
            "grid_template_areas": null,
            "grid_template_columns": null,
            "grid_template_rows": null,
            "height": null,
            "justify_content": null,
            "justify_items": null,
            "left": null,
            "margin": null,
            "max_height": null,
            "max_width": null,
            "min_height": null,
            "min_width": null,
            "object_fit": null,
            "object_position": null,
            "order": null,
            "overflow": null,
            "overflow_x": null,
            "overflow_y": null,
            "padding": null,
            "right": null,
            "top": null,
            "visibility": null,
            "width": null
          }
        },
        "cf642465dc3349fea503da158a234dbb": {
          "model_module": "@jupyter-widgets/controls",
          "model_name": "DescriptionStyleModel",
          "model_module_version": "1.5.0",
          "state": {
            "_model_module": "@jupyter-widgets/controls",
            "_model_module_version": "1.5.0",
            "_model_name": "DescriptionStyleModel",
            "_view_count": null,
            "_view_module": "@jupyter-widgets/base",
            "_view_module_version": "1.2.0",
            "_view_name": "StyleView",
            "description_width": ""
          }
        }
      }
    }
  },
  "cells": [
    {
      "cell_type": "markdown",
      "source": [
        "## Clone the GitHub Repo"
      ],
      "metadata": {
        "id": "BCjW4rL7VE-H"
      }
    },
    {
      "cell_type": "code",
      "execution_count": 1,
      "metadata": {
        "colab": {
          "base_uri": "https://localhost:8080/"
        },
        "id": "662zwI2LUKic",
        "outputId": "9f699c6b-6438-4377-d772-2015db97a310"
      },
      "outputs": [
        {
          "output_type": "stream",
          "name": "stdout",
          "text": [
            "Cloning into 'CIFAR10ImageClassification'...\n",
            "remote: Enumerating objects: 65, done.\u001b[K\n",
            "remote: Counting objects: 100% (8/8), done.\u001b[K\n",
            "remote: Compressing objects: 100% (8/8), done.\u001b[K\n",
            "remote: Total 65 (delta 1), reused 0 (delta 0), pack-reused 57\u001b[K\n",
            "Receiving objects: 100% (65/65), 978.40 KiB | 18.12 MiB/s, done.\n",
            "Resolving deltas: 100% (25/25), done.\n"
          ]
        }
      ],
      "source": [
        "!git clone https://github.com/bhargav-borah/CIFAR10ImageClassification"
      ]
    },
    {
      "cell_type": "markdown",
      "source": [
        "## Import dependencies"
      ],
      "metadata": {
        "id": "Sy__oDebVAqD"
      }
    },
    {
      "cell_type": "code",
      "source": [
        "from torchvision.transforms import transforms\n",
        "import torch\n",
        "from torch import nn\n",
        "\n",
        "from pathlib import Path\n",
        "import os\n",
        "from CIFAR10ImageClassification.modules.accuracy import accuracy_fn"
      ],
      "metadata": {
        "id": "5IOScAOVVCqM"
      },
      "execution_count": 2,
      "outputs": []
    },
    {
      "cell_type": "markdown",
      "source": [
        "## Set up device-agnostic code"
      ],
      "metadata": {
        "id": "r5CpFKkJWTxE"
      }
    },
    {
      "cell_type": "code",
      "source": [
        "device = 'cuda' if torch.cuda.is_available() else 'cpu'\n",
        "device"
      ],
      "metadata": {
        "colab": {
          "base_uri": "https://localhost:8080/",
          "height": 36
        },
        "id": "pKHFr7IIWWGS",
        "outputId": "7f17194c-c746-40f2-9a56-f216cffc779f"
      },
      "execution_count": 3,
      "outputs": [
        {
          "output_type": "execute_result",
          "data": {
            "text/plain": [
              "'cuda'"
            ],
            "application/vnd.google.colaboratory.intrinsic+json": {
              "type": "string"
            }
          },
          "metadata": {},
          "execution_count": 3
        }
      ]
    },
    {
      "cell_type": "markdown",
      "source": [
        "## Create the train and test dataloaders from CIFAR-10 dataset"
      ],
      "metadata": {
        "id": "qNcBq3AYUdtX"
      }
    },
    {
      "cell_type": "code",
      "source": [
        "from CIFAR10ImageClassification.modules import data_setup"
      ],
      "metadata": {
        "id": "nGB9biNkU0Sf"
      },
      "execution_count": 4,
      "outputs": []
    },
    {
      "cell_type": "code",
      "source": [
        "data_dir = 'data'"
      ],
      "metadata": {
        "id": "SUvcYqZ-U_Wu"
      },
      "execution_count": 5,
      "outputs": []
    },
    {
      "cell_type": "code",
      "source": [
        "transform = transforms.Compose([\n",
        "    transforms.ToTensor(),\n",
        "    transforms.Normalize((0.5, 0.5, 0.5), (0.5, 0.5, 0.5))\n",
        "])"
      ],
      "metadata": {
        "id": "he1mODkxVWGU"
      },
      "execution_count": 6,
      "outputs": []
    },
    {
      "cell_type": "code",
      "source": [
        "train_dataloader, test_dataloader, class_names = data_setup.get_cifar10_dataloaders(data_dir=data_dir,\n",
        "                                                                                    transform=transform,\n",
        "                                                                                    batch_size=32,\n",
        "                                                                                    num_workers=os.cpu_count())"
      ],
      "metadata": {
        "colab": {
          "base_uri": "https://localhost:8080/"
        },
        "id": "DwpopdtSUuzW",
        "outputId": "49b08f30-96d3-4c0d-c3b0-ec48edaed74b"
      },
      "execution_count": 7,
      "outputs": [
        {
          "output_type": "stream",
          "name": "stdout",
          "text": [
            "Downloading https://www.cs.toronto.edu/~kriz/cifar-10-python.tar.gz to data/cifar-10-python.tar.gz\n"
          ]
        },
        {
          "output_type": "stream",
          "name": "stderr",
          "text": [
            "100%|██████████| 170498071/170498071 [00:03<00:00, 47333394.97it/s]\n"
          ]
        },
        {
          "output_type": "stream",
          "name": "stdout",
          "text": [
            "Extracting data/cifar-10-python.tar.gz to data\n",
            "Files already downloaded and verified\n"
          ]
        }
      ]
    },
    {
      "cell_type": "markdown",
      "source": [
        "## Create a model"
      ],
      "metadata": {
        "id": "trDTaPbBXCIR"
      }
    },
    {
      "cell_type": "code",
      "source": [
        "class CIFAR10ModelV3(nn.Module):\n",
        "  def __init__(self, input_shape: int, output_shape: int):\n",
        "    super().__init__()\n",
        "    self.block_1 = nn.Sequential(\n",
        "        nn.Conv2d(in_channels=input_shape,\n",
        "                  out_channels=32,\n",
        "                  kernel_size=2,\n",
        "                  stride=1,\n",
        "                  padding=1),\n",
        "        nn.ReLU(),\n",
        "        nn.Conv2d(in_channels=32,\n",
        "                  out_channels=32,\n",
        "                  kernel_size=2,\n",
        "                  stride=1,\n",
        "                  padding=1),\n",
        "        nn.ReLU(),\n",
        "        nn.MaxPool2d(kernel_size=2,\n",
        "                     stride=1)\n",
        "    )\n",
        "    self.block_2 = nn.Sequential(\n",
        "        nn.Conv2d(in_channels=32,\n",
        "                  out_channels=64,\n",
        "                  kernel_size=2,\n",
        "                  stride=1,\n",
        "                  padding=1),\n",
        "        nn.ReLU(),\n",
        "        nn.Conv2d(in_channels=64,\n",
        "                  out_channels=64,\n",
        "                  kernel_size=2,\n",
        "                  stride=1,\n",
        "                  padding=1),\n",
        "        nn.ReLU(),\n",
        "        nn.MaxPool2d(kernel_size=2,\n",
        "                     stride=1)\n",
        "    )\n",
        "    self.classifier = nn.Sequential(\n",
        "        nn.Flatten(),\n",
        "        nn.Linear(in_features=64*34*34,\n",
        "                  out_features=output_shape)\n",
        "    )\n",
        "\n",
        "  def forward(self, X: torch.Tensor):\n",
        "    return self.classifier(self.block_2(self.block_1(X)))"
      ],
      "metadata": {
        "id": "DihH5roGXDyt"
      },
      "execution_count": 8,
      "outputs": []
    },
    {
      "cell_type": "code",
      "source": [
        "model = CIFAR10ModelV3(input_shape=3,\n",
        "                       output_shape=len(class_names))\n",
        "model"
      ],
      "metadata": {
        "colab": {
          "base_uri": "https://localhost:8080/"
        },
        "id": "BooOJcwAY3rz",
        "outputId": "35c96690-719c-44eb-8c94-bf8bae776bca"
      },
      "execution_count": 9,
      "outputs": [
        {
          "output_type": "execute_result",
          "data": {
            "text/plain": [
              "CIFAR10ModelV3(\n",
              "  (block_1): Sequential(\n",
              "    (0): Conv2d(3, 32, kernel_size=(2, 2), stride=(1, 1), padding=(1, 1))\n",
              "    (1): ReLU()\n",
              "    (2): Conv2d(32, 32, kernel_size=(2, 2), stride=(1, 1), padding=(1, 1))\n",
              "    (3): ReLU()\n",
              "    (4): MaxPool2d(kernel_size=2, stride=1, padding=0, dilation=1, ceil_mode=False)\n",
              "  )\n",
              "  (block_2): Sequential(\n",
              "    (0): Conv2d(32, 64, kernel_size=(2, 2), stride=(1, 1), padding=(1, 1))\n",
              "    (1): ReLU()\n",
              "    (2): Conv2d(64, 64, kernel_size=(2, 2), stride=(1, 1), padding=(1, 1))\n",
              "    (3): ReLU()\n",
              "    (4): MaxPool2d(kernel_size=2, stride=1, padding=0, dilation=1, ceil_mode=False)\n",
              "  )\n",
              "  (classifier): Sequential(\n",
              "    (0): Flatten(start_dim=1, end_dim=-1)\n",
              "    (1): Linear(in_features=73984, out_features=10, bias=True)\n",
              "  )\n",
              ")"
            ]
          },
          "metadata": {},
          "execution_count": 9
        }
      ]
    },
    {
      "cell_type": "markdown",
      "source": [
        "## Time to train our model"
      ],
      "metadata": {
        "id": "95tCebTvXsUp"
      }
    },
    {
      "cell_type": "code",
      "source": [
        "os.chdir('CIFAR10ImageClassification/modules')\n",
        "os.listdir()"
      ],
      "metadata": {
        "colab": {
          "base_uri": "https://localhost:8080/"
        },
        "id": "NZxhDvSiclWR",
        "outputId": "901a60ac-f2d1-496a-9cf9-55aa326e59cc"
      },
      "execution_count": 10,
      "outputs": [
        {
          "output_type": "execute_result",
          "data": {
            "text/plain": [
              "['data_setup.py',\n",
              " 'graphing.py',\n",
              " 'model_builder.py',\n",
              " '__pycache__',\n",
              " 'accuracy.py',\n",
              " 'engine.py']"
            ]
          },
          "metadata": {},
          "execution_count": 10
        }
      ]
    },
    {
      "cell_type": "code",
      "source": [
        "from CIFAR10ImageClassification.modules.model_builder import fit"
      ],
      "metadata": {
        "id": "manqtpZYZCHi"
      },
      "execution_count": 11,
      "outputs": []
    },
    {
      "cell_type": "code",
      "source": [
        "loss_fn = nn.CrossEntropyLoss()\n",
        "optimizer = torch.optim.Adam(params=model.parameters(),\n",
        "                             lr=1e-3)"
      ],
      "metadata": {
        "id": "sDrrKy7pbIk9"
      },
      "execution_count": 12,
      "outputs": []
    },
    {
      "cell_type": "code",
      "source": [
        "history = fit(model=model,\n",
        "              epochs=10,\n",
        "              train_dataloader=train_dataloader,\n",
        "              test_dataloader=test_dataloader,\n",
        "              loss_fn=loss_fn,\n",
        "              optimizer=optimizer,\n",
        "              device=device,\n",
        "              accuracy_fn=accuracy_fn)"
      ],
      "metadata": {
        "colab": {
          "base_uri": "https://localhost:8080/",
          "height": 250,
          "referenced_widgets": [
            "a352cee4c6b84628bf7903c6b5e996ce",
            "6a0428dfd4dd44658c210572ae19d08b",
            "1b217ce9bbcd418d95be3b45289748b6",
            "07e708f4bc834540bf1a7ecc34e7cb27",
            "9eab7a832dc94b0789d3c67631a8d561",
            "691d6eadc7014267b39220ce7751cfb8",
            "3cf8413c12884dc9bd15b1deffa5a1a7",
            "f63d543b97484689bb8fc85e5a98a7ca",
            "ce75fa62314a44c1a51c2cbfb6c8bce3",
            "494d8ca97dfa4739a0c949ef238dd222",
            "cf642465dc3349fea503da158a234dbb"
          ]
        },
        "id": "xk_-xi-RZiy-",
        "outputId": "c97fb05d-9a00-4aeb-d038-aa632e2ed4b3"
      },
      "execution_count": 13,
      "outputs": [
        {
          "output_type": "display_data",
          "data": {
            "text/plain": [
              "  0%|          | 0/10 [00:00<?, ?it/s]"
            ],
            "application/vnd.jupyter.widget-view+json": {
              "version_major": 2,
              "version_minor": 0,
              "model_id": "a352cee4c6b84628bf7903c6b5e996ce"
            }
          },
          "metadata": {}
        },
        {
          "output_type": "stream",
          "name": "stdout",
          "text": [
            "Training loss:  1.3998193740844727 | Training accuracy: 0.49956014752388 | Test loss: 1.1554083824157715 | Test accuracy: 0.5928514003753662\n",
            "Training loss:  1.0594412088394165 | Training accuracy: 0.6312379837036133 | Test loss: 1.061375379562378 | Test accuracy: 0.627595841884613\n",
            "Training loss:  0.9282293915748596 | Training accuracy: 0.6734644770622253 | Test loss: 0.9650561809539795 | Test accuracy: 0.6593450307846069\n",
            "Training loss:  0.8250420689582825 | Training accuracy: 0.7128118872642517 | Test loss: 0.9331133365631104 | Test accuracy: 0.6723242402076721\n",
            "Training loss:  0.7229161858558655 | Training accuracy: 0.748540461063385 | Test loss: 0.9297330379486084 | Test accuracy: 0.6798123121261597\n",
            "Training loss:  0.6294342279434204 | Training accuracy: 0.7804702520370483 | Test loss: 0.9588040709495544 | Test accuracy: 0.676717221736908\n",
            "Training loss:  0.5383906364440918 | Training accuracy: 0.8127199411392212 | Test loss: 1.0116297006607056 | Test accuracy: 0.6815095543861389\n",
            "Training loss:  0.45454931259155273 | Training accuracy: 0.8402711153030396 | Test loss: 1.051117181777954 | Test accuracy: 0.6780151724815369\n",
            "Training loss:  0.37220531702041626 | Training accuracy: 0.8685420751571655 | Test loss: 1.1956106424331665 | Test accuracy: 0.6694288849830627\n",
            "Training loss:  0.29258859157562256 | Training accuracy: 0.8967530131340027 | Test loss: 1.3395763635635376 | Test accuracy: 0.6642372012138367\n",
            "Early stopping!\n"
          ]
        }
      ]
    },
    {
      "cell_type": "code",
      "source": [
        "model.load_state_dict(history['best_state_dict'])"
      ],
      "metadata": {
        "id": "kGFkldtHc46M",
        "colab": {
          "base_uri": "https://localhost:8080/"
        },
        "outputId": "718cc220-80a0-435f-8807-1f2b437f731e"
      },
      "execution_count": 18,
      "outputs": [
        {
          "output_type": "execute_result",
          "data": {
            "text/plain": [
              "<All keys matched successfully>"
            ]
          },
          "metadata": {},
          "execution_count": 18
        }
      ]
    },
    {
      "cell_type": "markdown",
      "source": [
        "## Graph loss and accuracy"
      ],
      "metadata": {
        "id": "EUnlHL-qLU9J"
      }
    },
    {
      "cell_type": "code",
      "source": [
        "from CIFAR10ImageClassification.modules.graphing import plot_loss_curves, plot_accuracy_curves"
      ],
      "metadata": {
        "id": "P6eJi7GoLvZh"
      },
      "execution_count": 19,
      "outputs": []
    },
    {
      "cell_type": "code",
      "source": [
        "plot_loss_curves(train_losses=history['train_losses'],\n",
        "                 test_losses=history['test_losses'])"
      ],
      "metadata": {
        "colab": {
          "base_uri": "https://localhost:8080/",
          "height": 703
        },
        "id": "ocZ0upmpL-bh",
        "outputId": "003e399a-be2f-48a2-d0cf-2852f94765a3"
      },
      "execution_count": 20,
      "outputs": [
        {
          "output_type": "display_data",
          "data": {
            "text/plain": [
              "<Figure size 1600x800 with 2 Axes>"
            ],
            "image/png": "[encoded data removed]"
          },
          "metadata": {}
        }
      ]
    },
    {
      "cell_type": "code",
      "source": [
        "plot_accuracy_curves(train_accuracies=history['train_accuracies'],\n",
        "                     test_accuracies=history['test_accuracies'])"
      ],
      "metadata": {
        "colab": {
          "base_uri": "https://localhost:8080/",
          "height": 698
        },
        "id": "W4GQf_XAMKqt",
        "outputId": "577af34f-4cbf-47b2-8e24-64e7d4e3f291"
      },
      "execution_count": 21,
      "outputs": [
        {
          "output_type": "display_data",
          "data": {
            "text/plain": [
              "<Figure size 1600x800 with 2 Axes>"
            ],
            "image/png": "[encoded data removed]"
          },
          "metadata": {}
        }
      ]
    },
    {
      "cell_type": "code",
      "source": [
        "os.chdir('..')"
      ],
      "metadata": {
        "id": "RV-yzP5wQN2N"
      },
      "execution_count": 33,
      "outputs": []
    },
    {
      "cell_type": "code",
      "source": [
        "os.getcwd()"
      ],
      "metadata": {
        "colab": {
          "base_uri": "https://localhost:8080/",
          "height": 36
        },
        "id": "L5OgBWWXQT1N",
        "outputId": "7d75b28f-5f26-4d1c-97ef-dafb2e585f11"
      },
      "execution_count": 34,
      "outputs": [
        {
          "output_type": "execute_result",
          "data": {
            "text/plain": [
              "'/content/CIFAR10ImageClassification'"
            ],
            "application/vnd.google.colaboratory.intrinsic+json": {
              "type": "string"
            }
          },
          "metadata": {},
          "execution_count": 34
        }
      ]
    },
    {
      "cell_type": "code",
      "source": [
        "%%writefile modules/eval.py\n",
        "\"\"\"\n",
        "Contains functionality to evaluate a trained model.\n",
        "\"\"\"\n",
        "import torch\n",
        "from accuracy import accuracy_fn\n",
        "\n",
        "def eval_model(model: torch.nn.Module,\n",
        "               dataloader: torch.utils.data.DataLoader,\n",
        "               loss_fn: torch.nn.Module,\n",
        "               device: torch.device,\n",
        "               accuracy_fn=accuracy_fn):\n",
        "  \"\"\"\n",
        "  Evaluate the performance of a PyTorch model on a given dataset.\n",
        "\n",
        "  Args:\n",
        "  - model (torch.nn.Module): The PyTorch model to evaluate.\n",
        "  - dataloader (torch.utils.data.DataLoader): DataLoader providing batches of data.\n",
        "  - loss_fn (torch.nn.Module): The loss function used for evaluation.\n",
        "  - device (torch.device): The device to perform the evaluation (e.g., 'cuda' or 'cpu').\n",
        "  - accuracy_fn (function): The function to calculate the accuracy score. Default is 'accuracy_fn'.\n",
        "\n",
        "  Returns:\n",
        "  - Tuple[float, float]: A tuple containing the average loss and average accuracy.\n",
        "  \"\"\"\n",
        "  avg_loss, avg_acc = 0, 0\n",
        "\n",
        "  model.to(device)\n",
        "  model.eval()\n",
        "  with torch.inference_mode():\n",
        "    for X, y in dataloader:\n",
        "      X, y = X.to(device), y.to(device)\n",
        "\n",
        "      y_pred = model(X)\n",
        "\n",
        "      loss = loss_fn(y_pred, y)\n",
        "      avg_loss += loss\n",
        "\n",
        "      acc = accuracy_fn(y_true=y,\n",
        "                        y_pred=y_pred.argmax(axis=1))\n",
        "      avg_acc += acc\n",
        "\n",
        "    avg_loss /= len(dataloader)\n",
        "    avg_acc /= len(dataloader)\n",
        "\n",
        "  return avg_loss.item(), avg_acc.item()"
      ],
      "metadata": {
        "colab": {
          "base_uri": "https://localhost:8080/"
        },
        "id": "-rKCPrNmMX47",
        "outputId": "7e010f9d-5777-4e7e-8550-b33c3683fb76"
      },
      "execution_count": 35,
      "outputs": [
        {
          "output_type": "stream",
          "name": "stdout",
          "text": [
            "Writing modules/eval.py\n"
          ]
        }
      ]
    },
    {
      "cell_type": "code",
      "source": [
        "test_loss, test_acc = eval_model(model=model,\n",
        "                                 dataloader=test_dataloader,\n",
        "                                 loss_fn=nn.CrossEntropyLoss(),\n",
        "                                 device=device)\n",
        "\n",
        "print(f'Test Loss: {test_loss} | Test Accuracy: {test_acc}')"
      ],
      "metadata": {
        "colab": {
          "base_uri": "https://localhost:8080/"
        },
        "id": "0mg4JDTENsAw",
        "outputId": "165a699d-ef31-4828-ce43-104f1f2a7a45"
      },
      "execution_count": 28,
      "outputs": [
        {
          "output_type": "stream",
          "name": "stdout",
          "text": [
            "Test Loss: 1.3395763635635376 | Test Accuracy: 0.6642372012138367\n"
          ]
        }
      ]
    },
    {
      "cell_type": "code",
      "source": [
        "train_loss, train_acc = eval_model(model=model,\n",
        "                                   dataloader=train_dataloader,\n",
        "                                   loss_fn=nn.CrossEntropyLoss(),\n",
        "                                   device=device)\n",
        "\n",
        "print(f'Train Loss: {train_loss} | Train Accuracy: {train_acc}')"
      ],
      "metadata": {
        "colab": {
          "base_uri": "https://localhost:8080/"
        },
        "id": "1nr0Z0j6N9R4",
        "outputId": "3fe21e8e-9bd5-4fa2-e997-79d8a2d6ba53"
      },
      "execution_count": 29,
      "outputs": [
        {
          "output_type": "stream",
          "name": "stdout",
          "text": [
            "Train Loss: 0.18928289413452148 | Train Accuracy: 0.9377799034118652\n"
          ]
        }
      ]
    },
    {
      "cell_type": "code",
      "source": [],
      "metadata": {
        "id": "z-EfF6eCOGPx"
      },
      "execution_count": null,
      "outputs": []
    }
  ]
}