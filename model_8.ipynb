{
  "metadata": {
    "kernelspec": {
      "display_name": "Python 3",
      "name": "python3"
    },
    "language_info": {
      "name": "python",
      "version": "3.10.13",
      "mimetype": "text/x-python",
      "codemirror_mode": {
        "name": "ipython",
        "version": 3
      },
      "pygments_lexer": "ipython3",
      "nbconvert_exporter": "python",
      "file_extension": ".py"
    },
    "kaggle": {
      "accelerator": "gpu",
      "dataSources": [],
      "dockerImageVersionId": 30665,
      "isInternetEnabled": true,
      "language": "python",
      "sourceType": "notebook",
      "isGpuEnabled": true
    },
    "colab": {
      "provenance": [],
      "gpuType": "T4"
    },
    "accelerator": "GPU",
    "widgets": {
      "application/vnd.jupyter.widget-state+json": {
        "fdec3557065949efb26ead06fd474641": {
          "model_module": "@jupyter-widgets/controls",
          "model_name": "HBoxModel",
          "model_module_version": "1.5.0",
          "state": {
            "_dom_classes": [],
            "_model_module": "@jupyter-widgets/controls",
            "_model_module_version": "1.5.0",
            "_model_name": "HBoxModel",
            "_view_count": null,
            "_view_module": "@jupyter-widgets/controls",
            "_view_module_version": "1.5.0",
            "_view_name": "HBoxView",
            "box_style": "",
            "children": [
              "IPY_MODEL_cd6bf45816e34449bc2e92d46298879c",
              "IPY_MODEL_347ab5dfe92747819016f18f829a8e38",
              "IPY_MODEL_1e828052063b46aea3f09fef8191dee8"
            ],
            "layout": "IPY_MODEL_8929472f3f9549a9ad751c4a72cafe51"
          }
        },
        "cd6bf45816e34449bc2e92d46298879c": {
          "model_module": "@jupyter-widgets/controls",
          "model_name": "HTMLModel",
          "model_module_version": "1.5.0",
          "state": {
            "_dom_classes": [],
            "_model_module": "@jupyter-widgets/controls",
            "_model_module_version": "1.5.0",
            "_model_name": "HTMLModel",
            "_view_count": null,
            "_view_module": "@jupyter-widgets/controls",
            "_view_module_version": "1.5.0",
            "_view_name": "HTMLView",
            "description": "",
            "description_tooltip": null,
            "layout": "IPY_MODEL_e167ef46c2e14309abb7124ab8c550c1",
            "placeholder": "​",
            "style": "IPY_MODEL_e5d053e4ae3c47b1a5c8e52f6aa5add6",
            "value": "100%"
          }
        },
        "347ab5dfe92747819016f18f829a8e38": {
          "model_module": "@jupyter-widgets/controls",
          "model_name": "FloatProgressModel",
          "model_module_version": "1.5.0",
          "state": {
            "_dom_classes": [],
            "_model_module": "@jupyter-widgets/controls",
            "_model_module_version": "1.5.0",
            "_model_name": "FloatProgressModel",
            "_view_count": null,
            "_view_module": "@jupyter-widgets/controls",
            "_view_module_version": "1.5.0",
            "_view_name": "ProgressView",
            "bar_style": "success",
            "description": "",
            "description_tooltip": null,
            "layout": "IPY_MODEL_e09e55db853442c99cf60674c74385de",
            "max": 10,
            "min": 0,
            "orientation": "horizontal",
            "style": "IPY_MODEL_b390534747be4ba7a1cb16af783f1354",
            "value": 10
          }
        },
        "1e828052063b46aea3f09fef8191dee8": {
          "model_module": "@jupyter-widgets/controls",
          "model_name": "HTMLModel",
          "model_module_version": "1.5.0",
          "state": {
            "_dom_classes": [],
            "_model_module": "@jupyter-widgets/controls",
            "_model_module_version": "1.5.0",
            "_model_name": "HTMLModel",
            "_view_count": null,
            "_view_module": "@jupyter-widgets/controls",
            "_view_module_version": "1.5.0",
            "_view_name": "HTMLView",
            "description": "",
            "description_tooltip": null,
            "layout": "IPY_MODEL_fcb59e9e896c4da186be58ec733d6d23",
            "placeholder": "​",
            "style": "IPY_MODEL_11b9d5baa22f488cb9894ee29d5ce089",
            "value": " 10/10 [28:31&lt;00:00, 171.03s/it]"
          }
        },
        "8929472f3f9549a9ad751c4a72cafe51": {
          "model_module": "@jupyter-widgets/base",
          "model_name": "LayoutModel",
          "model_module_version": "1.2.0",
          "state": {
            "_model_module": "@jupyter-widgets/base",
            "_model_module_version": "1.2.0",
            "_model_name": "LayoutModel",
            "_view_count": null,
            "_view_module": "@jupyter-widgets/base",
            "_view_module_version": "1.2.0",
            "_view_name": "LayoutView",
            "align_content": null,
            "align_items": null,
            "align_self": null,
            "border": null,
            "bottom": null,
            "display": null,
            "flex": null,
            "flex_flow": null,
            "grid_area": null,
            "grid_auto_columns": null,
            "grid_auto_flow": null,
            "grid_auto_rows": null,
            "grid_column": null,
            "grid_gap": null,
            "grid_row": null,
            "grid_template_areas": null,
            "grid_template_columns": null,
            "grid_template_rows": null,
            "height": null,
            "justify_content": null,
            "justify_items": null,
            "left": null,
            "margin": null,
            "max_height": null,
            "max_width": null,
            "min_height": null,
            "min_width": null,
            "object_fit": null,
            "object_position": null,
            "order": null,
            "overflow": null,
            "overflow_x": null,
            "overflow_y": null,
            "padding": null,
            "right": null,
            "top": null,
            "visibility": null,
            "width": null
          }
        },
        "e167ef46c2e14309abb7124ab8c550c1": {
          "model_module": "@jupyter-widgets/base",
          "model_name": "LayoutModel",
          "model_module_version": "1.2.0",
          "state": {
            "_model_module": "@jupyter-widgets/base",
            "_model_module_version": "1.2.0",
            "_model_name": "LayoutModel",
            "_view_count": null,
            "_view_module": "@jupyter-widgets/base",
            "_view_module_version": "1.2.0",
            "_view_name": "LayoutView",
            "align_content": null,
            "align_items": null,
            "align_self": null,
            "border": null,
            "bottom": null,
            "display": null,
            "flex": null,
            "flex_flow": null,
            "grid_area": null,
            "grid_auto_columns": null,
            "grid_auto_flow": null,
            "grid_auto_rows": null,
            "grid_column": null,
            "grid_gap": null,
            "grid_row": null,
            "grid_template_areas": null,
            "grid_template_columns": null,
            "grid_template_rows": null,
            "height": null,
            "justify_content": null,
            "justify_items": null,
            "left": null,
            "margin": null,
            "max_height": null,
            "max_width": null,
            "min_height": null,
            "min_width": null,
            "object_fit": null,
            "object_position": null,
            "order": null,
            "overflow": null,
            "overflow_x": null,
            "overflow_y": null,
            "padding": null,
            "right": null,
            "top": null,
            "visibility": null,
            "width": null
          }
        },
        "e5d053e4ae3c47b1a5c8e52f6aa5add6": {
          "model_module": "@jupyter-widgets/controls",
          "model_name": "DescriptionStyleModel",
          "model_module_version": "1.5.0",
          "state": {
            "_model_module": "@jupyter-widgets/controls",
            "_model_module_version": "1.5.0",
            "_model_name": "DescriptionStyleModel",
            "_view_count": null,
            "_view_module": "@jupyter-widgets/base",
            "_view_module_version": "1.2.0",
            "_view_name": "StyleView",
            "description_width": ""
          }
        },
        "e09e55db853442c99cf60674c74385de": {
          "model_module": "@jupyter-widgets/base",
          "model_name": "LayoutModel",
          "model_module_version": "1.2.0",
          "state": {
            "_model_module": "@jupyter-widgets/base",
            "_model_module_version": "1.2.0",
            "_model_name": "LayoutModel",
            "_view_count": null,
            "_view_module": "@jupyter-widgets/base",
            "_view_module_version": "1.2.0",
            "_view_name": "LayoutView",
            "align_content": null,
            "align_items": null,
            "align_self": null,
            "border": null,
            "bottom": null,
            "display": null,
            "flex": null,
            "flex_flow": null,
            "grid_area": null,
            "grid_auto_columns": null,
            "grid_auto_flow": null,
            "grid_auto_rows": null,
            "grid_column": null,
            "grid_gap": null,
            "grid_row": null,
            "grid_template_areas": null,
            "grid_template_columns": null,
            "grid_template_rows": null,
            "height": null,
            "justify_content": null,
            "justify_items": null,
            "left": null,
            "margin": null,
            "max_height": null,
            "max_width": null,
            "min_height": null,
            "min_width": null,
            "object_fit": null,
            "object_position": null,
            "order": null,
            "overflow": null,
            "overflow_x": null,
            "overflow_y": null,
            "padding": null,
            "right": null,
            "top": null,
            "visibility": null,
            "width": null
          }
        },
        "b390534747be4ba7a1cb16af783f1354": {
          "model_module": "@jupyter-widgets/controls",
          "model_name": "ProgressStyleModel",
          "model_module_version": "1.5.0",
          "state": {
            "_model_module": "@jupyter-widgets/controls",
            "_model_module_version": "1.5.0",
            "_model_name": "ProgressStyleModel",
            "_view_count": null,
            "_view_module": "@jupyter-widgets/base",
            "_view_module_version": "1.2.0",
            "_view_name": "StyleView",
            "bar_color": null,
            "description_width": ""
          }
        },
        "fcb59e9e896c4da186be58ec733d6d23": {
          "model_module": "@jupyter-widgets/base",
          "model_name": "LayoutModel",
          "model_module_version": "1.2.0",
          "state": {
            "_model_module": "@jupyter-widgets/base",
            "_model_module_version": "1.2.0",
            "_model_name": "LayoutModel",
            "_view_count": null,
            "_view_module": "@jupyter-widgets/base",
            "_view_module_version": "1.2.0",
            "_view_name": "LayoutView",
            "align_content": null,
            "align_items": null,
            "align_self": null,
            "border": null,
            "bottom": null,
            "display": null,
            "flex": null,
            "flex_flow": null,
            "grid_area": null,
            "grid_auto_columns": null,
            "grid_auto_flow": null,
            "grid_auto_rows": null,
            "grid_column": null,
            "grid_gap": null,
            "grid_row": null,
            "grid_template_areas": null,
            "grid_template_columns": null,
            "grid_template_rows": null,
            "height": null,
            "justify_content": null,
            "justify_items": null,
            "left": null,
            "margin": null,
            "max_height": null,
            "max_width": null,
            "min_height": null,
            "min_width": null,
            "object_fit": null,
            "object_position": null,
            "order": null,
            "overflow": null,
            "overflow_x": null,
            "overflow_y": null,
            "padding": null,
            "right": null,
            "top": null,
            "visibility": null,
            "width": null
          }
        },
        "11b9d5baa22f488cb9894ee29d5ce089": {
          "model_module": "@jupyter-widgets/controls",
          "model_name": "DescriptionStyleModel",
          "model_module_version": "1.5.0",
          "state": {
            "_model_module": "@jupyter-widgets/controls",
            "_model_module_version": "1.5.0",
            "_model_name": "DescriptionStyleModel",
            "_view_count": null,
            "_view_module": "@jupyter-widgets/base",
            "_view_module_version": "1.2.0",
            "_view_name": "StyleView",
            "description_width": ""
          }
        }
      }
    }
  },
  "nbformat_minor": 0,
  "nbformat": 4,
  "cells": [
    {
      "cell_type": "markdown",
      "source": [
        "## Clone the GutHub Repo"
      ],
      "metadata": {
        "id": "bICeN0v4vh3m"
      }
    },
    {
      "cell_type": "code",
      "source": [
        "!git clone https://github.com/bhargav-borah/CIFAR10ImageClassification"
      ],
      "metadata": {
        "execution": {
          "iopub.status.busy": "2024-03-04T13:47:00.598370Z",
          "iopub.execute_input": "2024-03-04T13:47:00.598694Z"
        },
        "trusted": true,
        "colab": {
          "base_uri": "https://localhost:8080/"
        },
        "id": "F--5sV_nvh3o",
        "outputId": "dad956e6-8a57-42b1-8c1b-eb536fc67a91"
      },
      "execution_count": 1,
      "outputs": [
        {
          "output_type": "stream",
          "name": "stdout",
          "text": [
            "Cloning into 'CIFAR10ImageClassification'...\n",
            "remote: Enumerating objects: 89, done.\u001b[K\n",
            "remote: Counting objects: 100% (32/32), done.\u001b[K\n",
            "remote: Compressing objects: 100% (32/32), done.\u001b[K\n",
            "remote: Total 89 (delta 13), reused 0 (delta 0), pack-reused 57\u001b[K\n",
            "Receiving objects: 100% (89/89), 1.44 MiB | 9.91 MiB/s, done.\n",
            "Resolving deltas: 100% (37/37), done.\n"
          ]
        }
      ]
    },
    {
      "cell_type": "markdown",
      "source": [
        "## Import the dependencies"
      ],
      "metadata": {
        "id": "VLbDPF2Nvh3p"
      }
    },
    {
      "cell_type": "code",
      "source": [
        "!pip install torchinfo"
      ],
      "metadata": {
        "trusted": true,
        "colab": {
          "base_uri": "https://localhost:8080/"
        },
        "id": "jEpzGqvevh3p",
        "outputId": "1f653bdc-489d-441c-d150-a40de7aab198"
      },
      "execution_count": 2,
      "outputs": [
        {
          "output_type": "stream",
          "name": "stdout",
          "text": [
            "Collecting torchinfo\n",
            "  Downloading torchinfo-1.8.0-py3-none-any.whl (23 kB)\n",
            "Installing collected packages: torchinfo\n",
            "Successfully installed torchinfo-1.8.0\n"
          ]
        }
      ]
    },
    {
      "cell_type": "code",
      "source": [
        "import torch\n",
        "from torch import nn\n",
        "import torchvision\n",
        "from torchvision.transforms import transforms\n",
        "from torchinfo import summary\n",
        "\n",
        "import os"
      ],
      "metadata": {
        "_uuid": "8f2839f25d086af736a60e9eeb907d3b93b6e0e5",
        "_cell_guid": "b1076dfc-b9ad-4769-8c92-a6c4dae69d19",
        "trusted": true,
        "id": "Tzkss7vEvh3p"
      },
      "execution_count": 3,
      "outputs": []
    },
    {
      "cell_type": "markdown",
      "source": [
        "## Set up device-agnostic code"
      ],
      "metadata": {
        "id": "7co97FUEvh3q"
      }
    },
    {
      "cell_type": "code",
      "source": [
        "device = 'cuda' if torch.cuda.is_available() else 'cpu'\n",
        "device"
      ],
      "metadata": {
        "trusted": true,
        "colab": {
          "base_uri": "https://localhost:8080/",
          "height": 36
        },
        "id": "2Hxpf9N_vh3q",
        "outputId": "e69cba84-6d8b-4cc8-f4a1-76ec61bc1f11"
      },
      "execution_count": 4,
      "outputs": [
        {
          "output_type": "execute_result",
          "data": {
            "text/plain": [
              "'cuda'"
            ],
            "application/vnd.google.colaboratory.intrinsic+json": {
              "type": "string"
            }
          },
          "metadata": {},
          "execution_count": 4
        }
      ]
    },
    {
      "cell_type": "markdown",
      "source": [
        "## Create train and test dataloaders"
      ],
      "metadata": {
        "id": "Y_vi54HTvh3q"
      }
    },
    {
      "cell_type": "code",
      "source": [
        "os.chdir('CIFAR10ImageClassification/modules')"
      ],
      "metadata": {
        "id": "fo0RgwuHvzSS"
      },
      "execution_count": 8,
      "outputs": []
    },
    {
      "cell_type": "code",
      "source": [
        "from data_setup import get_cifar10_dataloaders"
      ],
      "metadata": {
        "trusted": true,
        "id": "IWZg8MA0vh3q"
      },
      "execution_count": 9,
      "outputs": []
    },
    {
      "cell_type": "code",
      "source": [
        "data_dir = 'data'"
      ],
      "metadata": {
        "trusted": true,
        "id": "ZtCK6jZBvh3r"
      },
      "execution_count": 10,
      "outputs": []
    },
    {
      "cell_type": "code",
      "source": [
        "weights = torchvision.models.AlexNet_Weights.DEFAULT\n",
        "transforms = weights.transforms()\n",
        "transforms"
      ],
      "metadata": {
        "trusted": true,
        "colab": {
          "base_uri": "https://localhost:8080/"
        },
        "id": "8cbjgGuivh3r",
        "outputId": "8ce8c165-e6f2-4634-d309-210dc7978c8e"
      },
      "execution_count": 11,
      "outputs": [
        {
          "output_type": "execute_result",
          "data": {
            "text/plain": [
              "ImageClassification(\n",
              "    crop_size=[224]\n",
              "    resize_size=[256]\n",
              "    mean=[0.485, 0.456, 0.406]\n",
              "    std=[0.229, 0.224, 0.225]\n",
              "    interpolation=InterpolationMode.BILINEAR\n",
              ")"
            ]
          },
          "metadata": {},
          "execution_count": 11
        }
      ]
    },
    {
      "cell_type": "code",
      "source": [
        "BATCH_SIZE = 32\n",
        "NUM_WORKERS = os.cpu_count()\n",
        "\n",
        "train_dataloader, test_dataloader, class_names = get_cifar10_dataloaders(data_dir=data_dir,\n",
        "                                                                         transform=transforms,\n",
        "                                                                         batch_size=BATCH_SIZE,\n",
        "                                                                         num_workers=NUM_WORKERS)"
      ],
      "metadata": {
        "trusted": true,
        "colab": {
          "base_uri": "https://localhost:8080/"
        },
        "id": "CAqk6bgDvh3r",
        "outputId": "2d729692-bdf7-4f52-b951-20af9ba19aa4"
      },
      "execution_count": 12,
      "outputs": [
        {
          "output_type": "stream",
          "name": "stdout",
          "text": [
            "Downloading https://www.cs.toronto.edu/~kriz/cifar-10-python.tar.gz to data/cifar-10-python.tar.gz\n"
          ]
        },
        {
          "output_type": "stream",
          "name": "stderr",
          "text": [
            "100%|██████████| 170498071/170498071 [00:02<00:00, 64088222.59it/s]\n"
          ]
        },
        {
          "output_type": "stream",
          "name": "stdout",
          "text": [
            "Extracting data/cifar-10-python.tar.gz to data\n",
            "Files already downloaded and verified\n"
          ]
        }
      ]
    },
    {
      "cell_type": "code",
      "source": [
        "image_batch, label_batch = next(iter(train_dataloader))"
      ],
      "metadata": {
        "trusted": true,
        "id": "12z2LCr0vh3r"
      },
      "execution_count": 13,
      "outputs": []
    },
    {
      "cell_type": "code",
      "source": [
        "image_batch[0].shape"
      ],
      "metadata": {
        "trusted": true,
        "colab": {
          "base_uri": "https://localhost:8080/"
        },
        "id": "5KMUUT7Zvh3r",
        "outputId": "63bb8c23-4dfa-4646-acf0-68554ac1ebea"
      },
      "execution_count": 14,
      "outputs": [
        {
          "output_type": "execute_result",
          "data": {
            "text/plain": [
              "torch.Size([3, 224, 224])"
            ]
          },
          "metadata": {},
          "execution_count": 14
        }
      ]
    },
    {
      "cell_type": "raw",
      "source": [
        "image_batch[0].shape"
      ],
      "metadata": {
        "id": "oySELdOtvh3s"
      }
    },
    {
      "cell_type": "code",
      "source": [
        "model_8 = torchvision.models.alexnet(weights=weights).to(device)"
      ],
      "metadata": {
        "trusted": true,
        "colab": {
          "base_uri": "https://localhost:8080/"
        },
        "id": "9RuiYCEzvh3s",
        "outputId": "94759137-c3c8-45e8-ff16-c7a0c0414aa2"
      },
      "execution_count": 15,
      "outputs": [
        {
          "output_type": "stream",
          "name": "stderr",
          "text": [
            "Downloading: \"https://download.pytorch.org/models/alexnet-owt-7be5be79.pth\" to /root/.cache/torch/hub/checkpoints/alexnet-owt-7be5be79.pth\n",
            "100%|██████████| 233M/233M [00:01<00:00, 139MB/s]\n"
          ]
        }
      ]
    },
    {
      "cell_type": "code",
      "source": [
        "for param in model_8.parameters():\n",
        "    param.requires_grad = False"
      ],
      "metadata": {
        "trusted": true,
        "id": "sBfK1QPxvh3s"
      },
      "execution_count": 16,
      "outputs": []
    },
    {
      "cell_type": "code",
      "source": [
        "summary(model=model_8,\n",
        "        input_size=(32, 3, 224, 224),\n",
        "        col_names=['input_size', 'output_size', 'num_params', 'trainable'],\n",
        "        col_width=20,\n",
        "        row_settings=['var_names'])"
      ],
      "metadata": {
        "trusted": true,
        "colab": {
          "base_uri": "https://localhost:8080/"
        },
        "id": "qGfY48vPvh3s",
        "outputId": "c9f2fef1-e7cd-4c52-8834-e254beac652f"
      },
      "execution_count": 17,
      "outputs": [
        {
          "output_type": "execute_result",
          "data": {
            "text/plain": [
              "========================================================================================================================\n",
              "Layer (type (var_name))                  Input Shape          Output Shape         Param #              Trainable\n",
              "========================================================================================================================\n",
              "AlexNet (AlexNet)                        [32, 3, 224, 224]    [32, 1000]           --                   False\n",
              "├─Sequential (features)                  [32, 3, 224, 224]    [32, 256, 6, 6]      --                   False\n",
              "│    └─Conv2d (0)                        [32, 3, 224, 224]    [32, 64, 55, 55]     (23,296)             False\n",
              "│    └─ReLU (1)                          [32, 64, 55, 55]     [32, 64, 55, 55]     --                   --\n",
              "│    └─MaxPool2d (2)                     [32, 64, 55, 55]     [32, 64, 27, 27]     --                   --\n",
              "│    └─Conv2d (3)                        [32, 64, 27, 27]     [32, 192, 27, 27]    (307,392)            False\n",
              "│    └─ReLU (4)                          [32, 192, 27, 27]    [32, 192, 27, 27]    --                   --\n",
              "│    └─MaxPool2d (5)                     [32, 192, 27, 27]    [32, 192, 13, 13]    --                   --\n",
              "│    └─Conv2d (6)                        [32, 192, 13, 13]    [32, 384, 13, 13]    (663,936)            False\n",
              "│    └─ReLU (7)                          [32, 384, 13, 13]    [32, 384, 13, 13]    --                   --\n",
              "│    └─Conv2d (8)                        [32, 384, 13, 13]    [32, 256, 13, 13]    (884,992)            False\n",
              "│    └─ReLU (9)                          [32, 256, 13, 13]    [32, 256, 13, 13]    --                   --\n",
              "│    └─Conv2d (10)                       [32, 256, 13, 13]    [32, 256, 13, 13]    (590,080)            False\n",
              "│    └─ReLU (11)                         [32, 256, 13, 13]    [32, 256, 13, 13]    --                   --\n",
              "│    └─MaxPool2d (12)                    [32, 256, 13, 13]    [32, 256, 6, 6]      --                   --\n",
              "├─AdaptiveAvgPool2d (avgpool)            [32, 256, 6, 6]      [32, 256, 6, 6]      --                   --\n",
              "├─Sequential (classifier)                [32, 9216]           [32, 1000]           --                   False\n",
              "│    └─Dropout (0)                       [32, 9216]           [32, 9216]           --                   --\n",
              "│    └─Linear (1)                        [32, 9216]           [32, 4096]           (37,752,832)         False\n",
              "│    └─ReLU (2)                          [32, 4096]           [32, 4096]           --                   --\n",
              "│    └─Dropout (3)                       [32, 4096]           [32, 4096]           --                   --\n",
              "│    └─Linear (4)                        [32, 4096]           [32, 4096]           (16,781,312)         False\n",
              "│    └─ReLU (5)                          [32, 4096]           [32, 4096]           --                   --\n",
              "│    └─Linear (6)                        [32, 4096]           [32, 1000]           (4,097,000)          False\n",
              "========================================================================================================================\n",
              "Total params: 61,100,840\n",
              "Trainable params: 0\n",
              "Non-trainable params: 61,100,840\n",
              "Total mult-adds (G): 22.87\n",
              "========================================================================================================================\n",
              "Input size (MB): 19.27\n",
              "Forward/backward pass size (MB): 126.51\n",
              "Params size (MB): 244.40\n",
              "Estimated Total Size (MB): 390.18\n",
              "========================================================================================================================"
            ]
          },
          "metadata": {},
          "execution_count": 17
        }
      ]
    },
    {
      "cell_type": "code",
      "source": [
        "model_8.classifier"
      ],
      "metadata": {
        "trusted": true,
        "colab": {
          "base_uri": "https://localhost:8080/"
        },
        "id": "MeID9XbTvh3s",
        "outputId": "b58127ed-60c6-49a1-d404-dfdcdd05bf8c"
      },
      "execution_count": 18,
      "outputs": [
        {
          "output_type": "execute_result",
          "data": {
            "text/plain": [
              "Sequential(\n",
              "  (0): Dropout(p=0.5, inplace=False)\n",
              "  (1): Linear(in_features=9216, out_features=4096, bias=True)\n",
              "  (2): ReLU(inplace=True)\n",
              "  (3): Dropout(p=0.5, inplace=False)\n",
              "  (4): Linear(in_features=4096, out_features=4096, bias=True)\n",
              "  (5): ReLU(inplace=True)\n",
              "  (6): Linear(in_features=4096, out_features=1000, bias=True)\n",
              ")"
            ]
          },
          "metadata": {},
          "execution_count": 18
        }
      ]
    },
    {
      "cell_type": "code",
      "source": [
        "model_8.classifier = nn.Sequential(\n",
        "    nn.Dropout(p=0.5),\n",
        "    nn.Linear(in_features=9216, out_features=4096, bias=True),\n",
        "    nn.ReLU(),\n",
        "    nn.Dropout(p=0.5),\n",
        "    nn.Linear(in_features=4096, out_features=4096, bias=True),\n",
        "    nn.ReLU(),\n",
        "    nn.Linear(in_features=4096, out_features=len(class_names), bias=True)\n",
        ").to(device)"
      ],
      "metadata": {
        "trusted": true,
        "id": "4sqwowEhvh3t"
      },
      "execution_count": 24,
      "outputs": []
    },
    {
      "cell_type": "code",
      "source": [
        "summary(model=model_8,\n",
        "        input_size=(32, 3, 224, 224),\n",
        "        col_names=['input_size', 'output_size', 'num_params', 'trainable'],\n",
        "        col_width=20,\n",
        "        row_settings=['var_names']\n",
        ")"
      ],
      "metadata": {
        "trusted": true,
        "colab": {
          "base_uri": "https://localhost:8080/"
        },
        "id": "XvcEqD-Wvh3t",
        "outputId": "6a65b0b9-1387-448e-fd14-355aadb018f3"
      },
      "execution_count": 25,
      "outputs": [
        {
          "output_type": "execute_result",
          "data": {
            "text/plain": [
              "========================================================================================================================\n",
              "Layer (type (var_name))                  Input Shape          Output Shape         Param #              Trainable\n",
              "========================================================================================================================\n",
              "AlexNet (AlexNet)                        [32, 3, 224, 224]    [32, 10]             --                   Partial\n",
              "├─Sequential (features)                  [32, 3, 224, 224]    [32, 256, 6, 6]      --                   False\n",
              "│    └─Conv2d (0)                        [32, 3, 224, 224]    [32, 64, 55, 55]     (23,296)             False\n",
              "│    └─ReLU (1)                          [32, 64, 55, 55]     [32, 64, 55, 55]     --                   --\n",
              "│    └─MaxPool2d (2)                     [32, 64, 55, 55]     [32, 64, 27, 27]     --                   --\n",
              "│    └─Conv2d (3)                        [32, 64, 27, 27]     [32, 192, 27, 27]    (307,392)            False\n",
              "│    └─ReLU (4)                          [32, 192, 27, 27]    [32, 192, 27, 27]    --                   --\n",
              "│    └─MaxPool2d (5)                     [32, 192, 27, 27]    [32, 192, 13, 13]    --                   --\n",
              "│    └─Conv2d (6)                        [32, 192, 13, 13]    [32, 384, 13, 13]    (663,936)            False\n",
              "│    └─ReLU (7)                          [32, 384, 13, 13]    [32, 384, 13, 13]    --                   --\n",
              "│    └─Conv2d (8)                        [32, 384, 13, 13]    [32, 256, 13, 13]    (884,992)            False\n",
              "│    └─ReLU (9)                          [32, 256, 13, 13]    [32, 256, 13, 13]    --                   --\n",
              "│    └─Conv2d (10)                       [32, 256, 13, 13]    [32, 256, 13, 13]    (590,080)            False\n",
              "│    └─ReLU (11)                         [32, 256, 13, 13]    [32, 256, 13, 13]    --                   --\n",
              "│    └─MaxPool2d (12)                    [32, 256, 13, 13]    [32, 256, 6, 6]      --                   --\n",
              "├─AdaptiveAvgPool2d (avgpool)            [32, 256, 6, 6]      [32, 256, 6, 6]      --                   --\n",
              "├─Sequential (classifier)                [32, 9216]           [32, 10]             --                   True\n",
              "│    └─Dropout (0)                       [32, 9216]           [32, 9216]           --                   --\n",
              "│    └─Linear (1)                        [32, 9216]           [32, 4096]           37,752,832           True\n",
              "│    └─ReLU (2)                          [32, 4096]           [32, 4096]           --                   --\n",
              "│    └─Dropout (3)                       [32, 4096]           [32, 4096]           --                   --\n",
              "│    └─Linear (4)                        [32, 4096]           [32, 4096]           16,781,312           True\n",
              "│    └─ReLU (5)                          [32, 4096]           [32, 4096]           --                   --\n",
              "│    └─Linear (6)                        [32, 4096]           [32, 10]             40,970               True\n",
              "========================================================================================================================\n",
              "Total params: 57,044,810\n",
              "Trainable params: 54,575,114\n",
              "Non-trainable params: 2,469,696\n",
              "Total mult-adds (G): 22.74\n",
              "========================================================================================================================\n",
              "Input size (MB): 19.27\n",
              "Forward/backward pass size (MB): 126.26\n",
              "Params size (MB): 228.18\n",
              "Estimated Total Size (MB): 373.70\n",
              "========================================================================================================================"
            ]
          },
          "metadata": {},
          "execution_count": 25
        }
      ]
    },
    {
      "cell_type": "markdown",
      "source": [
        "## Train the model"
      ],
      "metadata": {
        "id": "LgCb2s6Lvh3t"
      }
    },
    {
      "cell_type": "code",
      "source": [
        "from model_builder import fit"
      ],
      "metadata": {
        "trusted": true,
        "id": "QvilJIf0vh3t"
      },
      "execution_count": 26,
      "outputs": []
    },
    {
      "cell_type": "code",
      "source": [
        "loss_fn = nn.CrossEntropyLoss()\n",
        "optimizer = torch.optim.Adam(params=model_8.parameters(),\n",
        "                             lr=1e-3)\n",
        "\n",
        "history_8 = fit(model=model_8,\n",
        "                epochs=10,\n",
        "                train_dataloader=train_dataloader,\n",
        "                test_dataloader=test_dataloader,\n",
        "                loss_fn=loss_fn,\n",
        "                optimizer=optimizer,\n",
        "                device=device)"
      ],
      "metadata": {
        "trusted": true,
        "colab": {
          "base_uri": "https://localhost:8080/",
          "height": 231,
          "referenced_widgets": [
            "fdec3557065949efb26ead06fd474641",
            "cd6bf45816e34449bc2e92d46298879c",
            "347ab5dfe92747819016f18f829a8e38",
            "1e828052063b46aea3f09fef8191dee8",
            "8929472f3f9549a9ad751c4a72cafe51",
            "e167ef46c2e14309abb7124ab8c550c1",
            "e5d053e4ae3c47b1a5c8e52f6aa5add6",
            "e09e55db853442c99cf60674c74385de",
            "b390534747be4ba7a1cb16af783f1354",
            "fcb59e9e896c4da186be58ec733d6d23",
            "11b9d5baa22f488cb9894ee29d5ce089"
          ]
        },
        "id": "ZSch7Zcyvh3t",
        "outputId": "4ce31450-7505-4033-d780-fb831c6f3d36"
      },
      "execution_count": 27,
      "outputs": [
        {
          "output_type": "display_data",
          "data": {
            "text/plain": [
              "  0%|          | 0/10 [00:00<?, ?it/s]"
            ],
            "application/vnd.jupyter.widget-view+json": {
              "version_major": 2,
              "version_minor": 0,
              "model_id": "fdec3557065949efb26ead06fd474641"
            }
          },
          "metadata": {}
        },
        {
          "output_type": "stream",
          "name": "stdout",
          "text": [
            "Training loss:  0.9827515482902527 | Training accuracy: 0.6728246808052063 | Test loss: 0.6905773282051086 | Test accuracy: 0.7780550718307495\n",
            "Training loss:  0.7874775528907776 | Training accuracy: 0.7370041608810425 | Test loss: 0.6818135976791382 | Test accuracy: 0.7834464907646179\n",
            "Training loss:  0.717174232006073 | Training accuracy: 0.7614963054656982 | Test loss: 0.6218388080596924 | Test accuracy: 0.8062100410461426\n",
            "Training loss:  0.6805391907691956 | Training accuracy: 0.774472177028656 | Test loss: 0.5767688155174255 | Test accuracy: 0.8119009733200073\n",
            "Training loss:  0.6650916337966919 | Training accuracy: 0.7806301712989807 | Test loss: 0.5405065417289734 | Test accuracy: 0.8211860656738281\n",
            "Training loss:  0.6265352964401245 | Training accuracy: 0.7909269332885742 | Test loss: 0.555674135684967 | Test accuracy: 0.8165934085845947\n",
            "Training loss:  0.6140395402908325 | Training accuracy: 0.7962251901626587 | Test loss: 0.5210001468658447 | Test accuracy: 0.8276757001876831\n",
            "Training loss:  0.5905618667602539 | Training accuracy: 0.8041826486587524 | Test loss: 0.5155167579650879 | Test accuracy: 0.8259783983230591\n",
            "Training loss:  0.5681694149971008 | Training accuracy: 0.8091011047363281 | Test loss: 0.5076010823249817 | Test accuracy: 0.8314696550369263\n",
            "Training loss:  0.5565953850746155 | Training accuracy: 0.8153191208839417 | Test loss: 0.4997944235801697 | Test accuracy: 0.8333665728569031\n"
          ]
        }
      ]
    },
    {
      "cell_type": "markdown",
      "source": [
        "## Graph out losses and accuracies"
      ],
      "metadata": {
        "id": "fIqNtXjUvh3u"
      }
    },
    {
      "cell_type": "code",
      "source": [
        "from graphing import plot_loss_curves, plot_accuracy_curves"
      ],
      "metadata": {
        "trusted": true,
        "id": "9HKcwYnevh3u"
      },
      "execution_count": 28,
      "outputs": []
    },
    {
      "cell_type": "code",
      "source": [
        "plot_loss_curves(train_losses=history_8['train_losses'],\n",
        "                 test_losses=history_8['test_losses'])"
      ],
      "metadata": {
        "trusted": true,
        "colab": {
          "base_uri": "https://localhost:8080/",
          "height": 718
        },
        "id": "jf5Qk5MEvh3u",
        "outputId": "aa0e7bee-f1f2-4223-b752-19421694221b"
      },
      "execution_count": 29,
      "outputs": [
        {
          "output_type": "display_data",
          "data": {
            "text/plain": [
              "<Figure size 1600x800 with 2 Axes>"
            ],
            "image/png": "[encoded data removed]"
          },
          "metadata": {}
        }
      ]
    },
    {
      "cell_type": "code",
      "source": [
        "plot_accuracy_curves(train_accuracies=history_8['train_accuracies'],\n",
        "                     test_accuracies=history_8['test_accuracies'])"
      ],
      "metadata": {
        "trusted": true,
        "colab": {
          "base_uri": "https://localhost:8080/",
          "height": 718
        },
        "id": "85-OhPiZvh3u",
        "outputId": "2e9a3871-55ea-4dcf-cbfd-78780be76eda"
      },
      "execution_count": 30,
      "outputs": [
        {
          "output_type": "display_data",
          "data": {
            "text/plain": [
              "<Figure size 1600x800 with 2 Axes>"
            ],
            "image/png": "[encoded data removed]"
          },
          "metadata": {}
        }
      ]
    },
    {
      "cell_type": "code",
      "source": [],
      "metadata": {
        "id": "gC0_NVPXvh3v"
      },
      "execution_count": 30,
      "outputs": []
    }
  ]
}